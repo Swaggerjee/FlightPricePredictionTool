{
 "cells": [
  {
   "cell_type": "markdown",
   "metadata": {},
   "source": [
    "**python -m venv ./venv**\n",
    "\n",
    "Run that in your terminal to set up the virtual environment, then run the below command. If you don't care about using a virtual environment, just run the below command to install the required packages for your current version of Python."
   ]
  },
  {
   "cell_type": "code",
   "execution_count": null,
   "metadata": {},
   "outputs": [],
   "source": [
    "%pip install pandas numpy matplotlib seaborn scikit-learn tensorflow wordcloud"
   ]
  },
  {
   "cell_type": "markdown",
   "metadata": {},
   "source": [
    "You can also run the following:"
   ]
  },
  {
   "cell_type": "code",
   "execution_count": null,
   "metadata": {},
   "outputs": [],
   "source": [
    "%pip install -r requirements.txt"
   ]
  },
  {
   "cell_type": "markdown",
   "metadata": {},
   "source": [
    "**Process 1: Data Cleaning**"
   ]
  },
  {
   "cell_type": "code",
   "execution_count": null,
   "metadata": {},
   "outputs": [],
   "source": [
    "#import data\n",
    "import pandas as pd\n",
    "import numpy as np\n",
    "\n",
    "data = pd.read_csv('Flight Price Prediction Data/Clean_Dataset.csv')\n",
    "data.head()"
   ]
  },
  {
   "cell_type": "code",
   "execution_count": null,
   "metadata": {},
   "outputs": [],
   "source": [
    "#drop 1st column\n",
    "data = data.drop(data.columns[0], axis=1)\n",
    "data.head()"
   ]
  },
  {
   "cell_type": "code",
   "execution_count": null,
   "metadata": {},
   "outputs": [],
   "source": [
    "#CREATE NEW COLUMN TO CONVERT PRICES TO USD\n",
    "\n",
    "#conversion rate from INR to USD\n",
    "conversion_rate = 0.012\n",
    "\n",
    "#function to convert price from INR to USD\n",
    "def convert_to_usd(price_inr):\n",
    "    return price_inr * conversion_rate\n",
    "\n",
    "#create new column for USD price, applying conversion and round to the nearest cent\n",
    "data['priceUSD'] = data['price'].apply(convert_to_usd).apply(lambda x: round(x, 2))\n",
    "\n",
    "#rename current price column to indicate it is INR (Indian Rupee)\n",
    "data = data.rename(columns={'price': 'priceINR'})\n",
    "\n",
    "data.head()"
   ]
  },
  {
   "cell_type": "code",
   "execution_count": null,
   "metadata": {},
   "outputs": [],
   "source": [
    "#CONVERT STOPS VALUES FROM STRING TO NUMERICAL\n",
    "\n",
    "#mapping dictionary\n",
    "number_mapping = {'zero': 0, 'one': 1, 'two_or_more': 2}\n",
    "\n",
    "# Convert string versions of numbers to numerical values\n",
    "data['stops'] = data['stops'].map(number_mapping)\n",
    "\n",
    "data.head()"
   ]
  }
 ],
 "metadata": {
  "kernelspec": {
   "display_name": "Python 3",
   "language": "python",
   "name": "python3"
  },
  "language_info": {
   "codemirror_mode": {
    "name": "ipython",
    "version": 3
   },
   "file_extension": ".py",
   "mimetype": "text/x-python",
   "name": "python",
   "nbconvert_exporter": "python",
   "pygments_lexer": "ipython3",
   "version": "3.11.5"
  }
 },
 "nbformat": 4,
 "nbformat_minor": 2
}
